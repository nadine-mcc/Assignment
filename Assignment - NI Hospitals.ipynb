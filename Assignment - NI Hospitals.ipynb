{
 "cells": [
  {
   "cell_type": "code",
   "execution_count": null,
   "id": "c4c597b3",
   "metadata": {},
   "outputs": [],
   "source": [
    "%matplotlib notebook\n",
    "%matplotlib inline\n",
    "\n",
    "import geopandas as gpd\n",
    "import matplotlib.pyplot as plt\n",
    "from cartopy.feature import ShapelyFeature\n",
    "import cartopy.crs as ccrs\n",
    "import matplotlib.patches as mpatches\n",
    "import matplotlib.lines as mlines\n",
    "import pandas as pd\n",
    "from shapely.geometry import Point, LineString, Polygon\n",
    "from matplotlib import pyplot as plt\n",
    "import numpy as np\n",
    "import matplotlib.colors as mcolors\n",
    "import io\n",
    "import zipfile\n",
    "import json\n",
    "import math\n",
    "import os\n",
    "from osgeo import ogr\n",
    "\n",
    "plt.ion() # make the plotting interactive\n",
    "\n",
    "# generate matplotlib handles to create a legend of the features we put in our map.\n",
    "def generate_handles(labels, colors, edge='k', alpha=1):\n",
    "    lc = len(colors)  # get the length of the color list\n",
    "    handles = []\n",
    "    for i in range(len(labels)):\n",
    "        handles.append(mpatches.Rectangle((0, 0), 1, 1, facecolor=colors[i % lc], edgecolor=edge, alpha=alpha))\n",
    "    return handles\n",
    "\n",
    "# create a scale bar of length 20 km in the upper right corner of the map\n",
    "# adapted this question: https://stackoverflow.com/q/32333870\n",
    "# answered by SO user Siyh: https://stackoverflow.com/a/35705477\n",
    "def scale_bar(ax, location=(0.92, 0.95)):\n",
    "    llx0, llx1, lly0, lly1 = ax.get_extent(ccrs.PlateCarree())\n",
    "    sbllx = (llx1 + llx0) / 2\n",
    "    sblly = lly0 + (lly1 - lly0) * location[1]\n",
    "\n",
    "    tmc = ccrs.TransverseMercator(sbllx, sblly)\n",
    "    x0, x1, y0, y1 = ax.get_extent(tmc)\n",
    "    sbx = x0 + (x1 - x0) * location[0]\n",
    "    sby = y0 + (y1 - y0) * location[1]\n",
    "\n",
    "    plt.plot([sbx, sbx - 20000], [sby, sby], color='k', linewidth=9, transform=tmc)\n",
    "    plt.plot([sbx, sbx - 10000], [sby, sby], color='k', linewidth=6, transform=tmc)\n",
    "    plt.plot([sbx-10000, sbx - 20000], [sby, sby], color='w', linewidth=6, transform=tmc)\n",
    "\n",
    "    plt.text(sbx, sby-4500, '20 km', transform=tmc, fontsize=8)\n",
    "    plt.text(sbx-12500, sby-4500, '10 km', transform=tmc, fontsize=8)\n",
    "    plt.text(sbx-24500, sby-4500, '0 km', transform=tmc, fontsize=8)\n",
    "\n",
    "# load the outline of Northern Ireland for a backdrop\n",
    "outline = gpd.read_file('data/NI_outline.shp')"
   ]
  },
  {
   "cell_type": "code",
   "execution_count": null,
   "id": "db772268",
   "metadata": {},
   "outputs": [],
   "source": [
    "# upload data\n",
    "roads = gpd.read_file('data/NI_roads.shp') \n",
    "counties = gpd.read_file('data/Counties.shp')\n",
    "hospitals = gpd.read_file('data/emergency_care_hospitals.shp')\n",
    "municipalities = gpd.read_file('data/Municipalities.shp')"
   ]
  },
  {
   "cell_type": "code",
   "execution_count": null,
   "id": "2bf09463",
   "metadata": {},
   "outputs": [],
   "source": [
    "# check coordinate reference system of each dataset\n",
    "print(roads.crs) \n",
    "print(counties.crs)\n",
    "print(hospitals.crs)\n",
    "print(municipalities.crs)"
   ]
  },
  {
   "cell_type": "code",
   "execution_count": null,
   "id": "c3307c30",
   "metadata": {},
   "outputs": [],
   "source": [
    "# change reference systems to ITM epsg 2157\n",
    "roads_itm = roads.to_crs(epsg= 2157) \n",
    "counties_itm = counties.to_crs(epsg= 2157)\n",
    "hospitals_itm = hospitals.to_crs(epsg= 2157)\n",
    "municipalities_itm = municipalities.to_crs(epsg= 2157)\n",
    "\n",
    "print(roads_itm.head())"
   ]
  },
  {
   "cell_type": "code",
   "execution_count": null,
   "id": "ff8f5bdb",
   "metadata": {},
   "outputs": [],
   "source": [
    "for i, row in roads_itm.iterrows(): # iterate over each row in the GeoDataFrame\n",
    "    roads_itm.loc[i, 'Length'] = row['geometry'].length # assign the row's geometry length to a new column, Length\n",
    "    \n",
    "print(roads_itm.head()) # print the updated GeoDataFrame to see the changes"
   ]
  },
  {
   "cell_type": "code",
   "execution_count": null,
   "id": "e8872aec",
   "metadata": {},
   "outputs": [],
   "source": [
    "counties_itm #check counties geometry"
   ]
  },
  {
   "cell_type": "code",
   "execution_count": null,
   "id": "5ee7fd9e",
   "metadata": {},
   "outputs": [],
   "source": [
    "# initial view of hosiptal locations\n",
    "fig, ax = plt.subplots(figsize=(10,10)) \n",
    "\n",
    "counties_itm.plot(ax=ax, edgecolor = 'r', facecolor = 'none', column = 'CountyName')\n",
    "hospitals_itm.plot(ax=ax, markersize = 20, color= 'black', edgecolor = 'black')\n",
    "roads_itm.plot(ax=ax, cmap='Greys', alpha=.5)\n",
    "\n",
    "plt.title('Northern Ireland Counties, Ward Population, Roads and Hospitals')"
   ]
  },
  {
   "cell_type": "code",
   "execution_count": null,
   "id": "e6462319",
   "metadata": {},
   "outputs": [],
   "source": [
    "# uplpad NI wards and water\n",
    "wards = gpd.read_file('data/NI_Wards.shp')  \n",
    "water = gpd.read_file('data/Water.shp')"
   ]
  },
  {
   "cell_type": "code",
   "execution_count": null,
   "id": "87a2ef4f",
   "metadata": {},
   "outputs": [],
   "source": [
    "# change coordinate system to ITM epsg 2157\n",
    "wards_itm = wards.to_crs(epsg= 2157) \n",
    "water_itm = water.to_crs(epsg= 2157)"
   ]
  },
  {
   "cell_type": "code",
   "execution_count": null,
   "id": "7dcad42a",
   "metadata": {},
   "outputs": [],
   "source": [
    "print(wards_itm.crs)\n",
    "print(water_itm.crs)"
   ]
  },
  {
   "cell_type": "code",
   "execution_count": null,
   "id": "767d7ae0",
   "metadata": {},
   "outputs": [],
   "source": [
    "wards_itm"
   ]
  },
  {
   "cell_type": "code",
   "execution_count": null,
   "id": "e16996ce",
   "metadata": {},
   "outputs": [],
   "source": [
    "# plot wards showing population\n",
    "wards_itm.plot(ax=ax, cmap= 'jet', edgecolor= 'black', column= 'Population') \n",
    "\n",
    "fig"
   ]
  },
  {
   "cell_type": "code",
   "execution_count": null,
   "id": "1f955dfc",
   "metadata": {},
   "outputs": [],
   "source": [
    "# plot ward population with hospital locations\n",
    "fig, ax = plt.subplots(figsize=(10,10)) \n",
    "\n",
    "wards_itm.plot(ax=ax, cmap= 'jet', edgecolor= 'black', column= 'Population')\n",
    "water_itm.plot(ax=ax, color= 'black')\n",
    "roads_itm.plot(ax=ax, cmap='Greys', alpha=.5)\n",
    "hospitals_itm.plot(ax=ax, markersize = 20, edgecolor= 'red', color= 'white')\n",
    "\n",
    "plt.title('Northern Ireland Ward Population, Roads and Hospitals')"
   ]
  },
  {
   "cell_type": "code",
   "execution_count": null,
   "id": "34d774dc",
   "metadata": {},
   "outputs": [],
   "source": [
    "wards = gpd.read_file('data/NI_Wards.shp')\n",
    "wards_itm = wards.to_crs(epsg= 2157)"
   ]
  },
  {
   "cell_type": "code",
   "execution_count": null,
   "id": "15db0d8e",
   "metadata": {},
   "outputs": [],
   "source": [
    "centroid = wards_itm['geometry'].centroid # produce a centroid for each ward"
   ]
  },
  {
   "cell_type": "code",
   "execution_count": null,
   "id": "3eb11b41",
   "metadata": {},
   "outputs": [],
   "source": [
    "centroid.plot(ax = ax, color= 'white') # plot the ward centroids\n",
    "\n",
    "fig"
   ]
  },
  {
   "cell_type": "code",
   "execution_count": null,
   "id": "84bbf568",
   "metadata": {},
   "outputs": [],
   "source": [
    "centroid\n",
    "\n",
    "type(centroid) # centroid is  geoseries "
   ]
  },
  {
   "cell_type": "code",
   "execution_count": null,
   "id": "4b84360a",
   "metadata": {},
   "outputs": [],
   "source": [
    "centroid.to_file(\"centroid.shp\") # save/convert to geodatabase"
   ]
  },
  {
   "cell_type": "code",
   "execution_count": null,
   "id": "4adfa231",
   "metadata": {},
   "outputs": [],
   "source": [
    "centroids = gpd.read_file('centroid.shp')"
   ]
  },
  {
   "cell_type": "code",
   "execution_count": null,
   "id": "49adb12d",
   "metadata": {},
   "outputs": [],
   "source": [
    "type(centroids)"
   ]
  },
  {
   "cell_type": "code",
   "execution_count": null,
   "id": "67b01002",
   "metadata": {},
   "outputs": [],
   "source": [
    "centroids"
   ]
  },
  {
   "cell_type": "code",
   "execution_count": null,
   "id": "fc80c452",
   "metadata": {},
   "outputs": [],
   "source": [
    "wards_centroid = gpd.sjoin(centroids, wards_itm, how=\"inner\", op='within') # spatial join wards and centroids\n",
    "wards_centroid"
   ]
  },
  {
   "cell_type": "code",
   "execution_count": null,
   "id": "d456020d",
   "metadata": {},
   "outputs": [],
   "source": [
    "type(wards_centroid)"
   ]
  },
  {
   "cell_type": "code",
   "execution_count": null,
   "id": "392f9074",
   "metadata": {},
   "outputs": [],
   "source": [
    "wards_centroid.to_file(\"ward_cent.shp\")"
   ]
  },
  {
   "cell_type": "code",
   "execution_count": null,
   "id": "cfcd7a40",
   "metadata": {},
   "outputs": [],
   "source": [
    "buffer_20km = hospitals_itm['geometry'].buffer(distance = 20000) # create a 20km/20000m buffer around each hospital\n",
    "buffer_20km.plot"
   ]
  },
  {
   "cell_type": "code",
   "execution_count": null,
   "id": "8ff9f9d9",
   "metadata": {},
   "outputs": [],
   "source": [
    "# plot hospitals with 20km buffer and wards with ward centroids\n",
    "fig2, ax1 = plt.subplots(figsize=(10,10)) \n",
    "\n",
    "wards_itm.plot(ax=ax1, color= 'none', edgecolor= 'black')\n",
    "wards_centroid.plot(ax=ax1, color= 'black')\n",
    "water_itm.plot(ax=ax1, color= 'blue')\n",
    "buffer_20km.plot(ax=ax1, color= 'none', edgecolor= 'red')\n",
    "hospitals_itm.plot(ax=ax1, markersize = 20, color= 'red')\n",
    "\n",
    "plt.title('Northern Ireland Ward Centroids and Hospitals with 20km buffer')"
   ]
  },
  {
   "cell_type": "code",
   "execution_count": null,
   "id": "81d8a7ca",
   "metadata": {},
   "outputs": [],
   "source": [
    "buffer_20km.to_file(\"buffer20.shp\") # save buffer geoseries and reupload as a geodatabase"
   ]
  },
  {
   "cell_type": "code",
   "execution_count": null,
   "id": "13c801d3",
   "metadata": {},
   "outputs": [],
   "source": [
    "buffer20 = gpd.read_file(\"buffer20.shp\")"
   ]
  },
  {
   "cell_type": "code",
   "execution_count": null,
   "id": "d0dd9f7b",
   "metadata": {},
   "outputs": [],
   "source": [
    "buffer20"
   ]
  },
  {
   "cell_type": "code",
   "execution_count": null,
   "id": "8e28d819",
   "metadata": {},
   "outputs": [],
   "source": [
    "ward_cent = gpd.read_file('ward_cent.shp')"
   ]
  },
  {
   "cell_type": "code",
   "execution_count": null,
   "id": "a3d71e98",
   "metadata": {},
   "outputs": [],
   "source": [
    "buff_ward = gpd.sjoin(ward_cent, buffer20, how = 'inner', op = 'intersects') # spatial join of wards inside buffers"
   ]
  },
  {
   "cell_type": "code",
   "execution_count": null,
   "id": "5a4e895f",
   "metadata": {},
   "outputs": [],
   "source": [
    "buff_ward"
   ]
  },
  {
   "cell_type": "code",
   "execution_count": null,
   "id": "cc02d6d8",
   "metadata": {},
   "outputs": [],
   "source": [
    "buffer_overlapped = buffer20[buffer20[\"FID\"].isin([0, 1, 2, 3, 5, 6, 7, 8, 9, 10])] #seprate buffers which overlap (Belfast/Greater Belfast)"
   ]
  },
  {
   "cell_type": "code",
   "execution_count": null,
   "id": "11fc78ac",
   "metadata": {},
   "outputs": [],
   "source": [
    "buffer_overlapped"
   ]
  },
  {
   "cell_type": "code",
   "execution_count": null,
   "id": "9c60c126",
   "metadata": {},
   "outputs": [],
   "source": [
    "buffer_overlap_join = buffer_overlapped.geometry.unary_union #join overlapping buffers to produce one polygon"
   ]
  },
  {
   "cell_type": "code",
   "execution_count": null,
   "id": "43bd341d",
   "metadata": {},
   "outputs": [],
   "source": [
    "inside_overlap = ward_cent[ward_cent.geometry.within(buffer_overlap_join)] # show ward centroids inside overlapping buffer zone\n",
    "\n",
    "inside_overlap"
   ]
  },
  {
   "cell_type": "code",
   "execution_count": null,
   "id": "695078e6",
   "metadata": {},
   "outputs": [],
   "source": [
    "# show ward centroids inside three remaining separate buffers\n",
    "buffer_Coleraine = buffer20[buffer20[\"FID\"].isin([4])] \n",
    "buffer_LDerry = buffer20[buffer20[\"FID\"].isin([11])]\n",
    "buffer_Enniskillen = buffer20[buffer20[\"FID\"].isin([12])]"
   ]
  },
  {
   "cell_type": "code",
   "execution_count": null,
   "id": "837f7cff",
   "metadata": {},
   "outputs": [],
   "source": [
    "# count wards inside Coleraine hospital buffer\n",
    "in_Col = buffer_Coleraine.sindex.query_bulk(ward_cent.geometry, predicate= 'intersects') \n",
    "ward_cent['intersects'] = np.isin(np.arange(0, len(ward_cent)), in_Col)\n",
    "\n",
    "ward_cent['intersects']\n",
    "ward_cent['intersects'].sum()"
   ]
  },
  {
   "cell_type": "code",
   "execution_count": null,
   "id": "511a9814",
   "metadata": {},
   "outputs": [],
   "source": [
    " # count wards inside LDerry hospital buffer\n",
    "in_Lder = buffer_LDerry.sindex.query_bulk(ward_cent.geometry, predicate= 'intersects')\n",
    "ward_cent['intersects'] = np.isin(np.arange(0, len(ward_cent)), in_Lder)\n",
    "\n",
    "ward_cent['intersects'].sum()"
   ]
  },
  {
   "cell_type": "code",
   "execution_count": null,
   "id": "928cd3af",
   "metadata": {},
   "outputs": [],
   "source": [
    "# count wards inside the Enniskillen buffer\n",
    "in_Enis = buffer_Enniskillen.sindex.query_bulk(ward_cent.geometry, predicate= 'intersects') \n",
    "ward_cent['intersects'] = np.isin(np.arange(0, len(ward_cent)), in_Enis)\n",
    "\n",
    "ward_cent['intersects'].sum()"
   ]
  },
  {
   "cell_type": "code",
   "execution_count": null,
   "id": "b9da0b25",
   "metadata": {},
   "outputs": [],
   "source": [
    "# count of wards inside all 20k buffers\n",
    "wards_in_20 = buffer20.sindex.query_bulk(ward_cent.geometry, predicate = 'intersects') \n",
    "ward_cent['intersects'] = np.isin(np.arange(0, len(ward_cent)), wards_in_20)\n",
    "\n",
    "ward_cent['intersects'].sum()"
   ]
  },
  {
   "cell_type": "code",
   "execution_count": null,
   "id": "08e0f8b5",
   "metadata": {},
   "outputs": [],
   "source": [
    "580 - 434 # ward centroids not within 20km of an emergency care hospital"
   ]
  },
  {
   "cell_type": "code",
   "execution_count": null,
   "id": "074daf20",
   "metadata": {},
   "outputs": [],
   "source": []
  }
 ],
 "metadata": {
  "kernelspec": {
   "display_name": "Python 3",
   "language": "python",
   "name": "python3"
  },
  "language_info": {
   "codemirror_mode": {
    "name": "ipython",
    "version": 3
   },
   "file_extension": ".py",
   "mimetype": "text/x-python",
   "name": "python",
   "nbconvert_exporter": "python",
   "pygments_lexer": "ipython3",
   "version": "3.8.8"
  }
 },
 "nbformat": 4,
 "nbformat_minor": 5
}
